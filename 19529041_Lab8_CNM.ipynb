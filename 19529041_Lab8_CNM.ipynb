{
 "cells": [
  {
   "cell_type": "code",
   "execution_count": 18,
   "metadata": {},
   "outputs": [
    {
     "name": "stdout",
     "output_type": "stream",
     "text": [
      "Merkle Root: a2fa8010aeeb4748115ff9d70be2a10984530805f17705f371b51b157dd8bb9f\n"
     ]
    }
   ],
   "source": [
    "import hashlib\n",
    "\n",
    "def double_hash(data):\n",
    "    return hashlib.sha256(hashlib.sha256(data).digest()).digest()\n",
    "\n",
    "def build_merkle_tree(transactions):\n",
    "    if len(transactions) == 0:\n",
    "        return None\n",
    "    if len(transactions) == 1:\n",
    "        return double_hash(transactions[0])\n",
    "\n",
    "    # Step 1: Split transactions into pairs\n",
    "    if len(transactions) % 2 != 0:\n",
    "        transactions.append(transactions[-1])  # Duplicate the last transaction if odd\n",
    "\n",
    "    # Step 3: Concatenate the txids\n",
    "    concatenated_pairs = [transactions[i] + transactions[i+1] for i in range(0, len(transactions), 2)]\n",
    "\n",
    "    # Step 4: Double hash the concatenated pairs\n",
    "    hashes = [double_hash(pair) for pair in concatenated_pairs]\n",
    "\n",
    "    return build_merkle_tree(hashes)\n",
    "\n",
    "# Example usage:\n",
    "transactions = [\n",
    "    b\"transaction1\",\n",
    "    b\"transaction2\",\n",
    "    b\"transaction3\",\n",
    "    b\"transaction4\"\n",
    "]\n",
    "merkle_root = build_merkle_tree(transactions)\n",
    "print(\"Merkle Root:\", merkle_root.hex())\n"
   ]
  }
 ],
 "metadata": {
  "kernelspec": {
   "display_name": "Python 3",
   "language": "python",
   "name": "python3"
  },
  "language_info": {
   "codemirror_mode": {
    "name": "ipython",
    "version": 3
   },
   "file_extension": ".py",
   "mimetype": "text/x-python",
   "name": "python",
   "nbconvert_exporter": "python",
   "pygments_lexer": "ipython3",
   "version": "3.11.2"
  }
 },
 "nbformat": 4,
 "nbformat_minor": 2
}
