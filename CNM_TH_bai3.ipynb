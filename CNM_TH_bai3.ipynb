{
  "nbformat": 4,
  "nbformat_minor": 0,
  "metadata": {
    "colab": {
      "provenance": []
    },
    "kernelspec": {
      "name": "python3",
      "display_name": "Python 3"
    },
    "language_info": {
      "name": "python"
    }
  },
  "cells": [
    {
      "cell_type": "code",
      "source": [
        "impoimport math\n",
        "class Shape:\n",
        "    color = \"red\"\n",
        "    filled = True\n",
        "    # Constructor\n",
        "    def __init__(self):\n",
        "      pass\n",
        "\n",
        "    def __init__(self, color=\"red\", filled = True):\n",
        "        self.color = color\n",
        "        self.filled = filled\n",
        "\n",
        "    # Getters and setters\n",
        "    def get_color(self):\n",
        "        return self.color\n",
        "\n",
        "    def set_color(self, color):\n",
        "        self.color = color\n",
        "\n",
        "    def is_filled(self):\n",
        "        return self.filled\n",
        "\n",
        "    def set_filled(self, filled):\n",
        "        self.filled = filled\n",
        "\n",
        "    # toString method\n",
        "    def __str__(self):\n",
        "        return f'Shape[color={self.color}, filled={self.filled}]'\n",
        "\n",
        "# Example usage\n",
        "shape = Shape()\n",
        "print(shape)"
      ],
      "metadata": {
        "colab": {
          "base_uri": "https://localhost:8080/"
        },
        "id": "xNvUHupv4Ew1",
        "outputId": "0d1f750b-9bf5-4dd0-e1e0-185ad0e7cb98"
      },
      "execution_count": null,
      "outputs": [
        {
          "output_type": "stream",
          "name": "stdout",
          "text": [
            "Shape[color=red, filled=True]\n"
          ]
        }
      ]
    },
    {
      "cell_type": "code",
      "source": [],
      "metadata": {
        "id": "16t2nVDLXpk9"
      },
      "execution_count": null,
      "outputs": []
    },
    {
      "cell_type": "code",
      "source": [],
      "metadata": {
        "id": "-iVN5HaGXtOx"
      },
      "execution_count": null,
      "outputs": []
    },
    {
      "cell_type": "code",
      "source": [],
      "metadata": {
        "id": "qvUyA5GrXp8B"
      },
      "execution_count": null,
      "outputs": []
    },
    {
      "cell_type": "code",
      "source": [
        "class Circle(Shape):\n",
        "    # Constructor\n",
        "    def __init__(self):\n",
        "      pass\n",
        "\n",
        "    def __init__(self, radius=1.0, color=\"red\", filled=True):\n",
        "        super().__init__(color, filled)  # Call the constructor of the superclass (Shape)\n",
        "        self.radius = radius\n",
        "\n",
        "    # Getter and setter for radius\n",
        "    def get_radius(self):\n",
        "        return self.radius\n",
        "\n",
        "    def set_radius(self, radius):\n",
        "        self.radius = radius\n",
        "\n",
        "    # Additional methods for Circle\n",
        "    def get_area(self):\n",
        "        return math.pi * self.radius * self.radius\n",
        "\n",
        "    def get_perimeter(self):\n",
        "        return 2 * math.pi * self.radius\n",
        "\n",
        "    # Override toString method\n",
        "    def __str__(self):\n",
        "        return f'Circle[{super().__str__()}, radius={self.radius}]'\n",
        "\n",
        "circle = Circle(2.0, \"blue\", False)\n",
        "print(circle)\n",
        "print(f'Area: {circle.get_area()}')\n",
        "print(f'Perimeter: {circle.get_perimeter()}')"
      ],
      "metadata": {
        "colab": {
          "base_uri": "https://localhost:8080/"
        },
        "id": "umZNDqgnBXoI",
        "outputId": "ba0d19bb-7ff6-4675-8972-4009748aff74"
      },
      "execution_count": null,
      "outputs": [
        {
          "output_type": "stream",
          "name": "stdout",
          "text": [
            "Circle[Shape[color=blue, filled=False], radius=2.0]\n",
            "Area: 12.566370614359172\n",
            "Perimeter: 12.566370614359172\n"
          ]
        }
      ]
    },
    {
      "cell_type": "code",
      "source": [
        "class Rectangle(Shape):\n",
        "  def __init__(self):\n",
        "    pass\n",
        "\n",
        "  def __init__(self,width = 1.0,length = 1.0):\n",
        "    self.width = width\n",
        "    self.lenght = length\n",
        "\n",
        "  def __init__(self,width =1.0,length = 1.0, color=\"red\", filled=True):\n",
        "    super().__init__(color, filled)\n",
        "    self.width = width\n",
        "    self.length = length\n",
        "\n",
        "  def get_Width(self):\n",
        "    return self.width\n",
        "\n",
        "  def set_Width(self,width):\n",
        "    self.width = width\n",
        "\n",
        "  def get_Length(self):\n",
        "    return self.lenght\n",
        "\n",
        "  def set_Length(self,length):\n",
        "    self.length = lenght\n",
        "\n",
        "  def get_Area(self):\n",
        "    return self.width * self.length\n",
        "\n",
        "  def get_Perimeter(self):\n",
        "    return (self.width + self.length) / 2\n",
        "\n",
        "  def __str__(self):\n",
        "        return f'Rectangle[{super().__str__()}, width={self.width}, length={self.length}]'\n",
        "\n",
        "chunhat = Rectangle(2,3,\"yellow\",False)\n",
        "print(chunhat)\n",
        "print(f'Area: {chunhat.get_Area()}')\n",
        "print(f'Peri: {chunhat.get_Perimeter()}')\n"
      ],
      "metadata": {
        "colab": {
          "base_uri": "https://localhost:8080/"
        },
        "id": "tVuJ2VvyDydZ",
        "outputId": "89d940b8-d928-4099-92f6-a3c78c96af21"
      },
      "execution_count": null,
      "outputs": [
        {
          "output_type": "stream",
          "name": "stdout",
          "text": [
            "Rectangle[Shape[color=yellow, filled=False], width=2, length=3]\n",
            "Area: 6\n",
            "Peri: 2.5\n"
          ]
        }
      ]
    },
    {
      "cell_type": "code",
      "source": [
        "class Square(Rectangle):\n",
        "  def __init__(self):\n",
        "    pass\n",
        "\n",
        "  def __init__(self,side=0):\n",
        "    self.side = side\n",
        "\n",
        "  def __init__(self,side,color)\n",
        "    self()"
      ],
      "metadata": {
        "id": "eWuDxdM4D5NR"
      },
      "execution_count": null,
      "outputs": []
    }
  ]
}